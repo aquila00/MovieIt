{
  "nbformat": 4,
  "nbformat_minor": 0,
  "metadata": {
    "colab": {
      "provenance": [],
      "collapsed_sections": [
        "o5CxoALmRX7T",
        "qY2KQ96fRUi7"
      ],
      "include_colab_link": true
    },
    "kernelspec": {
      "name": "python3",
      "display_name": "Python 3"
    },
    "language_info": {
      "name": "python"
    }
  },
  "cells": [
    {
      "cell_type": "markdown",
      "metadata": {
        "id": "view-in-github",
        "colab_type": "text"
      },
      "source": [
        "<a href=\"https://colab.research.google.com/github/aquila00/MovieIt/blob/main/MovieIt_item_v0.ipynb\" target=\"_parent\"><img src=\"https://colab.research.google.com/assets/colab-badge.svg\" alt=\"Open In Colab\"/></a>"
      ]
    },
    {
      "cell_type": "markdown",
      "source": [
        "#Sistema de Filtragem colaborativa - User Based"
      ],
      "metadata": {
        "id": "ddYAO1929ygl"
      }
    },
    {
      "cell_type": "markdown",
      "source": [
        "#Pré processamento"
      ],
      "metadata": {
        "id": "BMZdCjU2P5fK"
      }
    },
    {
      "cell_type": "markdown",
      "source": [
        "##Bibliotecas"
      ],
      "metadata": {
        "id": "fpvPzKWdFlot"
      }
    },
    {
      "cell_type": "code",
      "execution_count": null,
      "metadata": {
        "id": "ENrytY7B9RUi"
      },
      "outputs": [],
      "source": [
        "# Gerais\n",
        "import pandas as pd\n",
        "import numpy as np\n",
        "import math\n",
        "\n",
        "# Para separação de treino-teste\n",
        "from sklearn.model_selection import train_test_split\n",
        "\n",
        "# Para o RMSE\n",
        "from sklearn.metrics import mean_squared_error\n",
        "\n",
        "# Plot\n",
        "import matplotlib.pyplot as plt\n",
        "from pylab import title, xlabel, ylabel\n",
        "\n",
        "# Google drive / Colab\n",
        "from google.colab import drive"
      ]
    },
    {
      "cell_type": "code",
      "source": [
        "# Acessando os arquivos no GoogleDrive\n",
        "drive.mount('/content/gdrive')"
      ],
      "metadata": {
        "colab": {
          "base_uri": "https://localhost:8080/"
        },
        "id": "0miOXUyLFREG",
        "outputId": "56e328b5-c292-4a10-d705-ab99a54c9f39"
      },
      "execution_count": null,
      "outputs": [
        {
          "output_type": "stream",
          "name": "stdout",
          "text": [
            "Mounted at /content/gdrive\n"
          ]
        }
      ]
    },
    {
      "cell_type": "markdown",
      "source": [
        "##Database"
      ],
      "metadata": {
        "id": "sp6Y42RFFph9"
      }
    },
    {
      "cell_type": "markdown",
      "source": [
        "### Ratings"
      ],
      "metadata": {
        "id": "tn8SXPV5Rk3x"
      }
    },
    {
      "cell_type": "code",
      "source": [
        "# 1 milhão\n",
        "path = '/content/gdrive/MyDrive/movieit/ml-1m'\n",
        "db_rating = pd.read_csv(f'{path}/ratings.dat', names=['userid', 'movieid', 'rating', 'timestamp'], usecols=['userid', 'movieid', 'rating'], skiprows=1, header=None, sep='::')"
      ],
      "metadata": {
        "id": "EXUP1FUF-Qz8",
        "colab": {
          "base_uri": "https://localhost:8080/"
        },
        "outputId": "d377ba2d-d033-4e15-a07f-e7a8a95c919f"
      },
      "execution_count": null,
      "outputs": [
        {
          "output_type": "stream",
          "name": "stderr",
          "text": [
            "/usr/local/lib/python3.7/dist-packages/pandas/util/_decorators.py:311: ParserWarning: Falling back to the 'python' engine because the 'c' engine does not support regex separators (separators > 1 char and different from '\\s+' are interpreted as regex); you can avoid this warning by specifying engine='python'.\n",
            "  return func(*args, **kwargs)\n"
          ]
        }
      ]
    },
    {
      "cell_type": "markdown",
      "source": [
        "### Gêneros"
      ],
      "metadata": {
        "id": "U7wV1dXoRqYg"
      }
    },
    {
      "cell_type": "code",
      "source": [
        "# gêneros\n",
        "db_movie = pd.read_csv(f'{path}/movies.dat', names=['movieid', 'movietitle', 'genres'], skiprows=1, header=None, sep='::')"
      ],
      "metadata": {
        "id": "sKTzjNlx79UQ"
      },
      "execution_count": null,
      "outputs": []
    },
    {
      "cell_type": "code",
      "source": [
        "db_movie"
      ],
      "metadata": {
        "colab": {
          "base_uri": "https://localhost:8080/",
          "height": 424
        },
        "id": "BrlAbkGZYLqc",
        "outputId": "b6e18025-d4ad-4d26-9415-59e93d331dcb"
      },
      "execution_count": null,
      "outputs": [
        {
          "output_type": "execute_result",
          "data": {
            "text/plain": [
              "      movieid                          movietitle  \\\n",
              "0           2                      Jumanji (1995)   \n",
              "1           3             Grumpier Old Men (1995)   \n",
              "2           4            Waiting to Exhale (1995)   \n",
              "3           5  Father of the Bride Part II (1995)   \n",
              "4           6                         Heat (1995)   \n",
              "...       ...                                 ...   \n",
              "3877     3948             Meet the Parents (2000)   \n",
              "3878     3949          Requiem for a Dream (2000)   \n",
              "3879     3950                    Tigerland (2000)   \n",
              "3880     3951             Two Family House (2000)   \n",
              "3881     3952               Contender, The (2000)   \n",
              "\n",
              "                            genres  \n",
              "0     Adventure|Children's|Fantasy  \n",
              "1                   Comedy|Romance  \n",
              "2                     Comedy|Drama  \n",
              "3                           Comedy  \n",
              "4            Action|Crime|Thriller  \n",
              "...                            ...  \n",
              "3877                        Comedy  \n",
              "3878                         Drama  \n",
              "3879                         Drama  \n",
              "3880                         Drama  \n",
              "3881                Drama|Thriller  \n",
              "\n",
              "[3882 rows x 3 columns]"
            ],
            "text/html": [
              "\n",
              "  <div id=\"df-ceca3238-4151-4be3-9776-d28cb6acfa1c\">\n",
              "    <div class=\"colab-df-container\">\n",
              "      <div>\n",
              "<style scoped>\n",
              "    .dataframe tbody tr th:only-of-type {\n",
              "        vertical-align: middle;\n",
              "    }\n",
              "\n",
              "    .dataframe tbody tr th {\n",
              "        vertical-align: top;\n",
              "    }\n",
              "\n",
              "    .dataframe thead th {\n",
              "        text-align: right;\n",
              "    }\n",
              "</style>\n",
              "<table border=\"1\" class=\"dataframe\">\n",
              "  <thead>\n",
              "    <tr style=\"text-align: right;\">\n",
              "      <th></th>\n",
              "      <th>movieid</th>\n",
              "      <th>movietitle</th>\n",
              "      <th>genres</th>\n",
              "    </tr>\n",
              "  </thead>\n",
              "  <tbody>\n",
              "    <tr>\n",
              "      <th>0</th>\n",
              "      <td>2</td>\n",
              "      <td>Jumanji (1995)</td>\n",
              "      <td>Adventure|Children's|Fantasy</td>\n",
              "    </tr>\n",
              "    <tr>\n",
              "      <th>1</th>\n",
              "      <td>3</td>\n",
              "      <td>Grumpier Old Men (1995)</td>\n",
              "      <td>Comedy|Romance</td>\n",
              "    </tr>\n",
              "    <tr>\n",
              "      <th>2</th>\n",
              "      <td>4</td>\n",
              "      <td>Waiting to Exhale (1995)</td>\n",
              "      <td>Comedy|Drama</td>\n",
              "    </tr>\n",
              "    <tr>\n",
              "      <th>3</th>\n",
              "      <td>5</td>\n",
              "      <td>Father of the Bride Part II (1995)</td>\n",
              "      <td>Comedy</td>\n",
              "    </tr>\n",
              "    <tr>\n",
              "      <th>4</th>\n",
              "      <td>6</td>\n",
              "      <td>Heat (1995)</td>\n",
              "      <td>Action|Crime|Thriller</td>\n",
              "    </tr>\n",
              "    <tr>\n",
              "      <th>...</th>\n",
              "      <td>...</td>\n",
              "      <td>...</td>\n",
              "      <td>...</td>\n",
              "    </tr>\n",
              "    <tr>\n",
              "      <th>3877</th>\n",
              "      <td>3948</td>\n",
              "      <td>Meet the Parents (2000)</td>\n",
              "      <td>Comedy</td>\n",
              "    </tr>\n",
              "    <tr>\n",
              "      <th>3878</th>\n",
              "      <td>3949</td>\n",
              "      <td>Requiem for a Dream (2000)</td>\n",
              "      <td>Drama</td>\n",
              "    </tr>\n",
              "    <tr>\n",
              "      <th>3879</th>\n",
              "      <td>3950</td>\n",
              "      <td>Tigerland (2000)</td>\n",
              "      <td>Drama</td>\n",
              "    </tr>\n",
              "    <tr>\n",
              "      <th>3880</th>\n",
              "      <td>3951</td>\n",
              "      <td>Two Family House (2000)</td>\n",
              "      <td>Drama</td>\n",
              "    </tr>\n",
              "    <tr>\n",
              "      <th>3881</th>\n",
              "      <td>3952</td>\n",
              "      <td>Contender, The (2000)</td>\n",
              "      <td>Drama|Thriller</td>\n",
              "    </tr>\n",
              "  </tbody>\n",
              "</table>\n",
              "<p>3882 rows × 3 columns</p>\n",
              "</div>\n",
              "      <button class=\"colab-df-convert\" onclick=\"convertToInteractive('df-ceca3238-4151-4be3-9776-d28cb6acfa1c')\"\n",
              "              title=\"Convert this dataframe to an interactive table.\"\n",
              "              style=\"display:none;\">\n",
              "        \n",
              "  <svg xmlns=\"http://www.w3.org/2000/svg\" height=\"24px\"viewBox=\"0 0 24 24\"\n",
              "       width=\"24px\">\n",
              "    <path d=\"M0 0h24v24H0V0z\" fill=\"none\"/>\n",
              "    <path d=\"M18.56 5.44l.94 2.06.94-2.06 2.06-.94-2.06-.94-.94-2.06-.94 2.06-2.06.94zm-11 1L8.5 8.5l.94-2.06 2.06-.94-2.06-.94L8.5 2.5l-.94 2.06-2.06.94zm10 10l.94 2.06.94-2.06 2.06-.94-2.06-.94-.94-2.06-.94 2.06-2.06.94z\"/><path d=\"M17.41 7.96l-1.37-1.37c-.4-.4-.92-.59-1.43-.59-.52 0-1.04.2-1.43.59L10.3 9.45l-7.72 7.72c-.78.78-.78 2.05 0 2.83L4 21.41c.39.39.9.59 1.41.59.51 0 1.02-.2 1.41-.59l7.78-7.78 2.81-2.81c.8-.78.8-2.07 0-2.86zM5.41 20L4 18.59l7.72-7.72 1.47 1.35L5.41 20z\"/>\n",
              "  </svg>\n",
              "      </button>\n",
              "      \n",
              "  <style>\n",
              "    .colab-df-container {\n",
              "      display:flex;\n",
              "      flex-wrap:wrap;\n",
              "      gap: 12px;\n",
              "    }\n",
              "\n",
              "    .colab-df-convert {\n",
              "      background-color: #E8F0FE;\n",
              "      border: none;\n",
              "      border-radius: 50%;\n",
              "      cursor: pointer;\n",
              "      display: none;\n",
              "      fill: #1967D2;\n",
              "      height: 32px;\n",
              "      padding: 0 0 0 0;\n",
              "      width: 32px;\n",
              "    }\n",
              "\n",
              "    .colab-df-convert:hover {\n",
              "      background-color: #E2EBFA;\n",
              "      box-shadow: 0px 1px 2px rgba(60, 64, 67, 0.3), 0px 1px 3px 1px rgba(60, 64, 67, 0.15);\n",
              "      fill: #174EA6;\n",
              "    }\n",
              "\n",
              "    [theme=dark] .colab-df-convert {\n",
              "      background-color: #3B4455;\n",
              "      fill: #D2E3FC;\n",
              "    }\n",
              "\n",
              "    [theme=dark] .colab-df-convert:hover {\n",
              "      background-color: #434B5C;\n",
              "      box-shadow: 0px 1px 3px 1px rgba(0, 0, 0, 0.15);\n",
              "      filter: drop-shadow(0px 1px 2px rgba(0, 0, 0, 0.3));\n",
              "      fill: #FFFFFF;\n",
              "    }\n",
              "  </style>\n",
              "\n",
              "      <script>\n",
              "        const buttonEl =\n",
              "          document.querySelector('#df-ceca3238-4151-4be3-9776-d28cb6acfa1c button.colab-df-convert');\n",
              "        buttonEl.style.display =\n",
              "          google.colab.kernel.accessAllowed ? 'block' : 'none';\n",
              "\n",
              "        async function convertToInteractive(key) {\n",
              "          const element = document.querySelector('#df-ceca3238-4151-4be3-9776-d28cb6acfa1c');\n",
              "          const dataTable =\n",
              "            await google.colab.kernel.invokeFunction('convertToInteractive',\n",
              "                                                     [key], {});\n",
              "          if (!dataTable) return;\n",
              "\n",
              "          const docLinkHtml = 'Like what you see? Visit the ' +\n",
              "            '<a target=\"_blank\" href=https://colab.research.google.com/notebooks/data_table.ipynb>data table notebook</a>'\n",
              "            + ' to learn more about interactive tables.';\n",
              "          element.innerHTML = '';\n",
              "          dataTable['output_type'] = 'display_data';\n",
              "          await google.colab.output.renderOutput(dataTable, element);\n",
              "          const docLink = document.createElement('div');\n",
              "          docLink.innerHTML = docLinkHtml;\n",
              "          element.appendChild(docLink);\n",
              "        }\n",
              "      </script>\n",
              "    </div>\n",
              "  </div>\n",
              "  "
            ]
          },
          "metadata": {},
          "execution_count": 5
        }
      ]
    },
    {
      "cell_type": "markdown",
      "source": [
        "##Exploratória"
      ],
      "metadata": {
        "id": "Vksz4WuQQTjS"
      }
    },
    {
      "cell_type": "code",
      "source": [
        "db_rating"
      ],
      "metadata": {
        "colab": {
          "base_uri": "https://localhost:8080/",
          "height": 424
        },
        "id": "dUiZOvMSVvom",
        "outputId": "781fcf39-dc8c-4ff4-f14b-ad86ec2143af"
      },
      "execution_count": null,
      "outputs": [
        {
          "output_type": "execute_result",
          "data": {
            "text/plain": [
              "         userid  movieid  rating\n",
              "0             1      661       3\n",
              "1             1      914       3\n",
              "2             1     3408       4\n",
              "3             1     2355       5\n",
              "4             1     1197       3\n",
              "...         ...      ...     ...\n",
              "1000203    6040     1091       1\n",
              "1000204    6040     1094       5\n",
              "1000205    6040      562       5\n",
              "1000206    6040     1096       4\n",
              "1000207    6040     1097       4\n",
              "\n",
              "[1000208 rows x 3 columns]"
            ],
            "text/html": [
              "\n",
              "  <div id=\"df-ebdd811a-022f-4fc3-97e1-dc04fd567e2e\">\n",
              "    <div class=\"colab-df-container\">\n",
              "      <div>\n",
              "<style scoped>\n",
              "    .dataframe tbody tr th:only-of-type {\n",
              "        vertical-align: middle;\n",
              "    }\n",
              "\n",
              "    .dataframe tbody tr th {\n",
              "        vertical-align: top;\n",
              "    }\n",
              "\n",
              "    .dataframe thead th {\n",
              "        text-align: right;\n",
              "    }\n",
              "</style>\n",
              "<table border=\"1\" class=\"dataframe\">\n",
              "  <thead>\n",
              "    <tr style=\"text-align: right;\">\n",
              "      <th></th>\n",
              "      <th>userid</th>\n",
              "      <th>movieid</th>\n",
              "      <th>rating</th>\n",
              "    </tr>\n",
              "  </thead>\n",
              "  <tbody>\n",
              "    <tr>\n",
              "      <th>0</th>\n",
              "      <td>1</td>\n",
              "      <td>661</td>\n",
              "      <td>3</td>\n",
              "    </tr>\n",
              "    <tr>\n",
              "      <th>1</th>\n",
              "      <td>1</td>\n",
              "      <td>914</td>\n",
              "      <td>3</td>\n",
              "    </tr>\n",
              "    <tr>\n",
              "      <th>2</th>\n",
              "      <td>1</td>\n",
              "      <td>3408</td>\n",
              "      <td>4</td>\n",
              "    </tr>\n",
              "    <tr>\n",
              "      <th>3</th>\n",
              "      <td>1</td>\n",
              "      <td>2355</td>\n",
              "      <td>5</td>\n",
              "    </tr>\n",
              "    <tr>\n",
              "      <th>4</th>\n",
              "      <td>1</td>\n",
              "      <td>1197</td>\n",
              "      <td>3</td>\n",
              "    </tr>\n",
              "    <tr>\n",
              "      <th>...</th>\n",
              "      <td>...</td>\n",
              "      <td>...</td>\n",
              "      <td>...</td>\n",
              "    </tr>\n",
              "    <tr>\n",
              "      <th>1000203</th>\n",
              "      <td>6040</td>\n",
              "      <td>1091</td>\n",
              "      <td>1</td>\n",
              "    </tr>\n",
              "    <tr>\n",
              "      <th>1000204</th>\n",
              "      <td>6040</td>\n",
              "      <td>1094</td>\n",
              "      <td>5</td>\n",
              "    </tr>\n",
              "    <tr>\n",
              "      <th>1000205</th>\n",
              "      <td>6040</td>\n",
              "      <td>562</td>\n",
              "      <td>5</td>\n",
              "    </tr>\n",
              "    <tr>\n",
              "      <th>1000206</th>\n",
              "      <td>6040</td>\n",
              "      <td>1096</td>\n",
              "      <td>4</td>\n",
              "    </tr>\n",
              "    <tr>\n",
              "      <th>1000207</th>\n",
              "      <td>6040</td>\n",
              "      <td>1097</td>\n",
              "      <td>4</td>\n",
              "    </tr>\n",
              "  </tbody>\n",
              "</table>\n",
              "<p>1000208 rows × 3 columns</p>\n",
              "</div>\n",
              "      <button class=\"colab-df-convert\" onclick=\"convertToInteractive('df-ebdd811a-022f-4fc3-97e1-dc04fd567e2e')\"\n",
              "              title=\"Convert this dataframe to an interactive table.\"\n",
              "              style=\"display:none;\">\n",
              "        \n",
              "  <svg xmlns=\"http://www.w3.org/2000/svg\" height=\"24px\"viewBox=\"0 0 24 24\"\n",
              "       width=\"24px\">\n",
              "    <path d=\"M0 0h24v24H0V0z\" fill=\"none\"/>\n",
              "    <path d=\"M18.56 5.44l.94 2.06.94-2.06 2.06-.94-2.06-.94-.94-2.06-.94 2.06-2.06.94zm-11 1L8.5 8.5l.94-2.06 2.06-.94-2.06-.94L8.5 2.5l-.94 2.06-2.06.94zm10 10l.94 2.06.94-2.06 2.06-.94-2.06-.94-.94-2.06-.94 2.06-2.06.94z\"/><path d=\"M17.41 7.96l-1.37-1.37c-.4-.4-.92-.59-1.43-.59-.52 0-1.04.2-1.43.59L10.3 9.45l-7.72 7.72c-.78.78-.78 2.05 0 2.83L4 21.41c.39.39.9.59 1.41.59.51 0 1.02-.2 1.41-.59l7.78-7.78 2.81-2.81c.8-.78.8-2.07 0-2.86zM5.41 20L4 18.59l7.72-7.72 1.47 1.35L5.41 20z\"/>\n",
              "  </svg>\n",
              "      </button>\n",
              "      \n",
              "  <style>\n",
              "    .colab-df-container {\n",
              "      display:flex;\n",
              "      flex-wrap:wrap;\n",
              "      gap: 12px;\n",
              "    }\n",
              "\n",
              "    .colab-df-convert {\n",
              "      background-color: #E8F0FE;\n",
              "      border: none;\n",
              "      border-radius: 50%;\n",
              "      cursor: pointer;\n",
              "      display: none;\n",
              "      fill: #1967D2;\n",
              "      height: 32px;\n",
              "      padding: 0 0 0 0;\n",
              "      width: 32px;\n",
              "    }\n",
              "\n",
              "    .colab-df-convert:hover {\n",
              "      background-color: #E2EBFA;\n",
              "      box-shadow: 0px 1px 2px rgba(60, 64, 67, 0.3), 0px 1px 3px 1px rgba(60, 64, 67, 0.15);\n",
              "      fill: #174EA6;\n",
              "    }\n",
              "\n",
              "    [theme=dark] .colab-df-convert {\n",
              "      background-color: #3B4455;\n",
              "      fill: #D2E3FC;\n",
              "    }\n",
              "\n",
              "    [theme=dark] .colab-df-convert:hover {\n",
              "      background-color: #434B5C;\n",
              "      box-shadow: 0px 1px 3px 1px rgba(0, 0, 0, 0.15);\n",
              "      filter: drop-shadow(0px 1px 2px rgba(0, 0, 0, 0.3));\n",
              "      fill: #FFFFFF;\n",
              "    }\n",
              "  </style>\n",
              "\n",
              "      <script>\n",
              "        const buttonEl =\n",
              "          document.querySelector('#df-ebdd811a-022f-4fc3-97e1-dc04fd567e2e button.colab-df-convert');\n",
              "        buttonEl.style.display =\n",
              "          google.colab.kernel.accessAllowed ? 'block' : 'none';\n",
              "\n",
              "        async function convertToInteractive(key) {\n",
              "          const element = document.querySelector('#df-ebdd811a-022f-4fc3-97e1-dc04fd567e2e');\n",
              "          const dataTable =\n",
              "            await google.colab.kernel.invokeFunction('convertToInteractive',\n",
              "                                                     [key], {});\n",
              "          if (!dataTable) return;\n",
              "\n",
              "          const docLinkHtml = 'Like what you see? Visit the ' +\n",
              "            '<a target=\"_blank\" href=https://colab.research.google.com/notebooks/data_table.ipynb>data table notebook</a>'\n",
              "            + ' to learn more about interactive tables.';\n",
              "          element.innerHTML = '';\n",
              "          dataTable['output_type'] = 'display_data';\n",
              "          await google.colab.output.renderOutput(dataTable, element);\n",
              "          const docLink = document.createElement('div');\n",
              "          docLink.innerHTML = docLinkHtml;\n",
              "          element.appendChild(docLink);\n",
              "        }\n",
              "      </script>\n",
              "    </div>\n",
              "  </div>\n",
              "  "
            ]
          },
          "metadata": {},
          "execution_count": 6
        }
      ]
    },
    {
      "cell_type": "code",
      "source": [
        "n_ratings = len(db_rating)\n",
        "n_ratings: int = len(db_rating)\n",
        "n_users = len(db_rating['userid'].unique())\n",
        "n_movies_avaliados = len(db_rating['movieid'].unique())\n",
        "esparsidade = round(1.0 - n_ratings/float(n_users * n_movies_avaliados), 3)\n",
        "\n",
        "print(f'Total de ratings: {n_ratings}\\n'\\\n",
        "      f'Total de usuários únicos: {n_users}\\n'\\\n",
        "      f'Total de filmes: {n_movies_avaliados}\\n'\\\n",
        "      f'Média de ratings/user: {round(n_ratings/n_users, 2)}\\n'\\\n",
        "      f'Esparsidade da base é de: {(esparsidade*100)}%'\\\n",
        "      f'\\n')\n",
        "\n",
        "print(f'{db_rating.info()}')"
      ],
      "metadata": {
        "colab": {
          "base_uri": "https://localhost:8080/"
        },
        "id": "VEaRApMIXF2_",
        "outputId": "567060b8-b499-4ab0-db68-e4fcd9448cfb"
      },
      "execution_count": null,
      "outputs": [
        {
          "output_type": "stream",
          "name": "stdout",
          "text": [
            "Total de ratings: 1000208\n",
            "Total de usuários únicos: 6040\n",
            "Total de filmes: 3706\n",
            "Média de ratings/user: 165.6\n",
            "Esparsidade da base é de: 95.5%\n",
            "\n",
            "<class 'pandas.core.frame.DataFrame'>\n",
            "RangeIndex: 1000208 entries, 0 to 1000207\n",
            "Data columns (total 3 columns):\n",
            " #   Column   Non-Null Count    Dtype\n",
            "---  ------   --------------    -----\n",
            " 0   userid   1000208 non-null  int64\n",
            " 1   movieid  1000208 non-null  int64\n",
            " 2   rating   1000208 non-null  int64\n",
            "dtypes: int64(3)\n",
            "memory usage: 22.9 MB\n",
            "None\n"
          ]
        }
      ]
    },
    {
      "cell_type": "markdown",
      "source": [
        "## Criando os conjuntos de treino e teste"
      ],
      "metadata": {
        "id": "CH3aRPWPLGgK"
      }
    },
    {
      "cell_type": "markdown",
      "source": [
        "**Considerações:**\n",
        "\n",
        "Os conjuntos de treino e de teste foram criados pelos ids dos usuários uma vez que o conjunto da votação de um usuário compõe a integridade de suas preferências. \n",
        "\n",
        "A separação dos dados sem considerar esta integridade geraria problemas de particionamento do perfil do usuário alterando o resultado da similaridade."
      ],
      "metadata": {
        "id": "lC8_veZKakvq"
      }
    },
    {
      "cell_type": "code",
      "source": [
        "# matriz dos ids únicos dos usuários para a refereência do particionamento treino e teste\n",
        "print(db_rating.userid.unique())"
      ],
      "metadata": {
        "colab": {
          "base_uri": "https://localhost:8080/"
        },
        "id": "VRsiQljD_fYH",
        "outputId": "f8e54841-bf19-4fb6-c4e0-bc0d556062ea"
      },
      "execution_count": null,
      "outputs": [
        {
          "output_type": "stream",
          "name": "stdout",
          "text": [
            "[   1    2    3 ... 6038 6039 6040]\n"
          ]
        }
      ]
    },
    {
      "cell_type": "code",
      "source": [
        "# Separando o conjunto de treino e de teste, deixando 10% dos usuários para futuros testes\n",
        "X_train, X_test = train_test_split(db_rating.userid.unique(), test_size=0.2, random_state=700)"
      ],
      "metadata": {
        "id": "fz1h9N2HVfbP"
      },
      "execution_count": null,
      "outputs": []
    },
    {
      "cell_type": "code",
      "source": [
        "# retornando os valores de filmes e de ratings para completar a matriz de treino\n",
        "X_train = db_rating.loc[db_rating['userid'].isin(X_train)]\n",
        "\n",
        "# retornando os valores de filmes e de ratings para completar a matriz de teste\n",
        "X_test = db_rating.loc[db_rating['userid'].isin(X_test)]"
      ],
      "metadata": {
        "id": "A2WNyfTTd4eh"
      },
      "execution_count": null,
      "outputs": []
    },
    {
      "cell_type": "markdown",
      "source": [
        "### X_train - Exploratória"
      ],
      "metadata": {
        "id": "o5CxoALmRX7T"
      }
    },
    {
      "cell_type": "code",
      "source": [
        "X_train.head()"
      ],
      "metadata": {
        "colab": {
          "base_uri": "https://localhost:8080/"
        },
        "id": "y_cPg4AK_aLB",
        "outputId": "2481e54e-689b-48f6-a990-e2e87ad7eda3"
      },
      "execution_count": null,
      "outputs": [
        {
          "output_type": "execute_result",
          "data": {
            "text/plain": [
              "    userid  movieid  rating\n",
              "52       2     1357       5\n",
              "53       2     3068       4\n",
              "54       2     1537       4\n",
              "55       2      647       3\n",
              "56       2     2194       4"
            ],
            "text/html": [
              "\n",
              "  <div id=\"df-7e9e50f9-45d9-45b8-96f3-831c9b85ee7e\">\n",
              "    <div class=\"colab-df-container\">\n",
              "      <div>\n",
              "<style scoped>\n",
              "    .dataframe tbody tr th:only-of-type {\n",
              "        vertical-align: middle;\n",
              "    }\n",
              "\n",
              "    .dataframe tbody tr th {\n",
              "        vertical-align: top;\n",
              "    }\n",
              "\n",
              "    .dataframe thead th {\n",
              "        text-align: right;\n",
              "    }\n",
              "</style>\n",
              "<table border=\"1\" class=\"dataframe\">\n",
              "  <thead>\n",
              "    <tr style=\"text-align: right;\">\n",
              "      <th></th>\n",
              "      <th>userid</th>\n",
              "      <th>movieid</th>\n",
              "      <th>rating</th>\n",
              "    </tr>\n",
              "  </thead>\n",
              "  <tbody>\n",
              "    <tr>\n",
              "      <th>52</th>\n",
              "      <td>2</td>\n",
              "      <td>1357</td>\n",
              "      <td>5</td>\n",
              "    </tr>\n",
              "    <tr>\n",
              "      <th>53</th>\n",
              "      <td>2</td>\n",
              "      <td>3068</td>\n",
              "      <td>4</td>\n",
              "    </tr>\n",
              "    <tr>\n",
              "      <th>54</th>\n",
              "      <td>2</td>\n",
              "      <td>1537</td>\n",
              "      <td>4</td>\n",
              "    </tr>\n",
              "    <tr>\n",
              "      <th>55</th>\n",
              "      <td>2</td>\n",
              "      <td>647</td>\n",
              "      <td>3</td>\n",
              "    </tr>\n",
              "    <tr>\n",
              "      <th>56</th>\n",
              "      <td>2</td>\n",
              "      <td>2194</td>\n",
              "      <td>4</td>\n",
              "    </tr>\n",
              "  </tbody>\n",
              "</table>\n",
              "</div>\n",
              "      <button class=\"colab-df-convert\" onclick=\"convertToInteractive('df-7e9e50f9-45d9-45b8-96f3-831c9b85ee7e')\"\n",
              "              title=\"Convert this dataframe to an interactive table.\"\n",
              "              style=\"display:none;\">\n",
              "        \n",
              "  <svg xmlns=\"http://www.w3.org/2000/svg\" height=\"24px\"viewBox=\"0 0 24 24\"\n",
              "       width=\"24px\">\n",
              "    <path d=\"M0 0h24v24H0V0z\" fill=\"none\"/>\n",
              "    <path d=\"M18.56 5.44l.94 2.06.94-2.06 2.06-.94-2.06-.94-.94-2.06-.94 2.06-2.06.94zm-11 1L8.5 8.5l.94-2.06 2.06-.94-2.06-.94L8.5 2.5l-.94 2.06-2.06.94zm10 10l.94 2.06.94-2.06 2.06-.94-2.06-.94-.94-2.06-.94 2.06-2.06.94z\"/><path d=\"M17.41 7.96l-1.37-1.37c-.4-.4-.92-.59-1.43-.59-.52 0-1.04.2-1.43.59L10.3 9.45l-7.72 7.72c-.78.78-.78 2.05 0 2.83L4 21.41c.39.39.9.59 1.41.59.51 0 1.02-.2 1.41-.59l7.78-7.78 2.81-2.81c.8-.78.8-2.07 0-2.86zM5.41 20L4 18.59l7.72-7.72 1.47 1.35L5.41 20z\"/>\n",
              "  </svg>\n",
              "      </button>\n",
              "      \n",
              "  <style>\n",
              "    .colab-df-container {\n",
              "      display:flex;\n",
              "      flex-wrap:wrap;\n",
              "      gap: 12px;\n",
              "    }\n",
              "\n",
              "    .colab-df-convert {\n",
              "      background-color: #E8F0FE;\n",
              "      border: none;\n",
              "      border-radius: 50%;\n",
              "      cursor: pointer;\n",
              "      display: none;\n",
              "      fill: #1967D2;\n",
              "      height: 32px;\n",
              "      padding: 0 0 0 0;\n",
              "      width: 32px;\n",
              "    }\n",
              "\n",
              "    .colab-df-convert:hover {\n",
              "      background-color: #E2EBFA;\n",
              "      box-shadow: 0px 1px 2px rgba(60, 64, 67, 0.3), 0px 1px 3px 1px rgba(60, 64, 67, 0.15);\n",
              "      fill: #174EA6;\n",
              "    }\n",
              "\n",
              "    [theme=dark] .colab-df-convert {\n",
              "      background-color: #3B4455;\n",
              "      fill: #D2E3FC;\n",
              "    }\n",
              "\n",
              "    [theme=dark] .colab-df-convert:hover {\n",
              "      background-color: #434B5C;\n",
              "      box-shadow: 0px 1px 3px 1px rgba(0, 0, 0, 0.15);\n",
              "      filter: drop-shadow(0px 1px 2px rgba(0, 0, 0, 0.3));\n",
              "      fill: #FFFFFF;\n",
              "    }\n",
              "  </style>\n",
              "\n",
              "      <script>\n",
              "        const buttonEl =\n",
              "          document.querySelector('#df-7e9e50f9-45d9-45b8-96f3-831c9b85ee7e button.colab-df-convert');\n",
              "        buttonEl.style.display =\n",
              "          google.colab.kernel.accessAllowed ? 'block' : 'none';\n",
              "\n",
              "        async function convertToInteractive(key) {\n",
              "          const element = document.querySelector('#df-7e9e50f9-45d9-45b8-96f3-831c9b85ee7e');\n",
              "          const dataTable =\n",
              "            await google.colab.kernel.invokeFunction('convertToInteractive',\n",
              "                                                     [key], {});\n",
              "          if (!dataTable) return;\n",
              "\n",
              "          const docLinkHtml = 'Like what you see? Visit the ' +\n",
              "            '<a target=\"_blank\" href=https://colab.research.google.com/notebooks/data_table.ipynb>data table notebook</a>'\n",
              "            + ' to learn more about interactive tables.';\n",
              "          element.innerHTML = '';\n",
              "          dataTable['output_type'] = 'display_data';\n",
              "          await google.colab.output.renderOutput(dataTable, element);\n",
              "          const docLink = document.createElement('div');\n",
              "          docLink.innerHTML = docLinkHtml;\n",
              "          element.appendChild(docLink);\n",
              "        }\n",
              "      </script>\n",
              "    </div>\n",
              "  </div>\n",
              "  "
            ]
          },
          "metadata": {},
          "execution_count": 11
        }
      ]
    },
    {
      "cell_type": "code",
      "source": [
        "X_train.count()"
      ],
      "metadata": {
        "colab": {
          "base_uri": "https://localhost:8080/"
        },
        "id": "VeU_LaymI3dX",
        "outputId": "6b5d68dc-54c5-493f-a2c3-9100bc45409b"
      },
      "execution_count": null,
      "outputs": [
        {
          "output_type": "execute_result",
          "data": {
            "text/plain": [
              "userid     807160\n",
              "movieid    807160\n",
              "rating     807160\n",
              "dtype: int64"
            ]
          },
          "metadata": {},
          "execution_count": 12
        }
      ]
    },
    {
      "cell_type": "code",
      "source": [
        "X_train.head()"
      ],
      "metadata": {
        "colab": {
          "base_uri": "https://localhost:8080/"
        },
        "id": "L-s1o57IP0Wi",
        "outputId": "edfb5e2f-2335-446e-f46e-6daf9d1e2377"
      },
      "execution_count": null,
      "outputs": [
        {
          "output_type": "execute_result",
          "data": {
            "text/plain": [
              "    userid  movieid  rating\n",
              "52       2     1357       5\n",
              "53       2     3068       4\n",
              "54       2     1537       4\n",
              "55       2      647       3\n",
              "56       2     2194       4"
            ],
            "text/html": [
              "\n",
              "  <div id=\"df-f52534e0-430b-4a52-a097-5e3ddf089d32\">\n",
              "    <div class=\"colab-df-container\">\n",
              "      <div>\n",
              "<style scoped>\n",
              "    .dataframe tbody tr th:only-of-type {\n",
              "        vertical-align: middle;\n",
              "    }\n",
              "\n",
              "    .dataframe tbody tr th {\n",
              "        vertical-align: top;\n",
              "    }\n",
              "\n",
              "    .dataframe thead th {\n",
              "        text-align: right;\n",
              "    }\n",
              "</style>\n",
              "<table border=\"1\" class=\"dataframe\">\n",
              "  <thead>\n",
              "    <tr style=\"text-align: right;\">\n",
              "      <th></th>\n",
              "      <th>userid</th>\n",
              "      <th>movieid</th>\n",
              "      <th>rating</th>\n",
              "    </tr>\n",
              "  </thead>\n",
              "  <tbody>\n",
              "    <tr>\n",
              "      <th>52</th>\n",
              "      <td>2</td>\n",
              "      <td>1357</td>\n",
              "      <td>5</td>\n",
              "    </tr>\n",
              "    <tr>\n",
              "      <th>53</th>\n",
              "      <td>2</td>\n",
              "      <td>3068</td>\n",
              "      <td>4</td>\n",
              "    </tr>\n",
              "    <tr>\n",
              "      <th>54</th>\n",
              "      <td>2</td>\n",
              "      <td>1537</td>\n",
              "      <td>4</td>\n",
              "    </tr>\n",
              "    <tr>\n",
              "      <th>55</th>\n",
              "      <td>2</td>\n",
              "      <td>647</td>\n",
              "      <td>3</td>\n",
              "    </tr>\n",
              "    <tr>\n",
              "      <th>56</th>\n",
              "      <td>2</td>\n",
              "      <td>2194</td>\n",
              "      <td>4</td>\n",
              "    </tr>\n",
              "  </tbody>\n",
              "</table>\n",
              "</div>\n",
              "      <button class=\"colab-df-convert\" onclick=\"convertToInteractive('df-f52534e0-430b-4a52-a097-5e3ddf089d32')\"\n",
              "              title=\"Convert this dataframe to an interactive table.\"\n",
              "              style=\"display:none;\">\n",
              "        \n",
              "  <svg xmlns=\"http://www.w3.org/2000/svg\" height=\"24px\"viewBox=\"0 0 24 24\"\n",
              "       width=\"24px\">\n",
              "    <path d=\"M0 0h24v24H0V0z\" fill=\"none\"/>\n",
              "    <path d=\"M18.56 5.44l.94 2.06.94-2.06 2.06-.94-2.06-.94-.94-2.06-.94 2.06-2.06.94zm-11 1L8.5 8.5l.94-2.06 2.06-.94-2.06-.94L8.5 2.5l-.94 2.06-2.06.94zm10 10l.94 2.06.94-2.06 2.06-.94-2.06-.94-.94-2.06-.94 2.06-2.06.94z\"/><path d=\"M17.41 7.96l-1.37-1.37c-.4-.4-.92-.59-1.43-.59-.52 0-1.04.2-1.43.59L10.3 9.45l-7.72 7.72c-.78.78-.78 2.05 0 2.83L4 21.41c.39.39.9.59 1.41.59.51 0 1.02-.2 1.41-.59l7.78-7.78 2.81-2.81c.8-.78.8-2.07 0-2.86zM5.41 20L4 18.59l7.72-7.72 1.47 1.35L5.41 20z\"/>\n",
              "  </svg>\n",
              "      </button>\n",
              "      \n",
              "  <style>\n",
              "    .colab-df-container {\n",
              "      display:flex;\n",
              "      flex-wrap:wrap;\n",
              "      gap: 12px;\n",
              "    }\n",
              "\n",
              "    .colab-df-convert {\n",
              "      background-color: #E8F0FE;\n",
              "      border: none;\n",
              "      border-radius: 50%;\n",
              "      cursor: pointer;\n",
              "      display: none;\n",
              "      fill: #1967D2;\n",
              "      height: 32px;\n",
              "      padding: 0 0 0 0;\n",
              "      width: 32px;\n",
              "    }\n",
              "\n",
              "    .colab-df-convert:hover {\n",
              "      background-color: #E2EBFA;\n",
              "      box-shadow: 0px 1px 2px rgba(60, 64, 67, 0.3), 0px 1px 3px 1px rgba(60, 64, 67, 0.15);\n",
              "      fill: #174EA6;\n",
              "    }\n",
              "\n",
              "    [theme=dark] .colab-df-convert {\n",
              "      background-color: #3B4455;\n",
              "      fill: #D2E3FC;\n",
              "    }\n",
              "\n",
              "    [theme=dark] .colab-df-convert:hover {\n",
              "      background-color: #434B5C;\n",
              "      box-shadow: 0px 1px 3px 1px rgba(0, 0, 0, 0.15);\n",
              "      filter: drop-shadow(0px 1px 2px rgba(0, 0, 0, 0.3));\n",
              "      fill: #FFFFFF;\n",
              "    }\n",
              "  </style>\n",
              "\n",
              "      <script>\n",
              "        const buttonEl =\n",
              "          document.querySelector('#df-f52534e0-430b-4a52-a097-5e3ddf089d32 button.colab-df-convert');\n",
              "        buttonEl.style.display =\n",
              "          google.colab.kernel.accessAllowed ? 'block' : 'none';\n",
              "\n",
              "        async function convertToInteractive(key) {\n",
              "          const element = document.querySelector('#df-f52534e0-430b-4a52-a097-5e3ddf089d32');\n",
              "          const dataTable =\n",
              "            await google.colab.kernel.invokeFunction('convertToInteractive',\n",
              "                                                     [key], {});\n",
              "          if (!dataTable) return;\n",
              "\n",
              "          const docLinkHtml = 'Like what you see? Visit the ' +\n",
              "            '<a target=\"_blank\" href=https://colab.research.google.com/notebooks/data_table.ipynb>data table notebook</a>'\n",
              "            + ' to learn more about interactive tables.';\n",
              "          element.innerHTML = '';\n",
              "          dataTable['output_type'] = 'display_data';\n",
              "          await google.colab.output.renderOutput(dataTable, element);\n",
              "          const docLink = document.createElement('div');\n",
              "          docLink.innerHTML = docLinkHtml;\n",
              "          element.appendChild(docLink);\n",
              "        }\n",
              "      </script>\n",
              "    </div>\n",
              "  </div>\n",
              "  "
            ]
          },
          "metadata": {},
          "execution_count": 13
        }
      ]
    },
    {
      "cell_type": "code",
      "source": [
        "n_ratings = len(X_train)\n",
        "n_users = len(X_train['userid'].unique())\n",
        "n_movies_avaliados = len(X_train['movieid'].unique())\n",
        "esparsidade = round(1.0 -n_ratings/float(n_users * n_movies_avaliados),3)\n",
        "\n",
        "print(f'Total de ratings: {n_ratings}\\n'\\\n",
        "      f'Total de usuários únicos: {n_users}\\n'\\\n",
        "      f'Total de filmes: {n_movies_avaliados}\\n'\\\n",
        "      f'Média de ratings/user: {round(n_ratings/n_users, 2)}\\n'\\\n",
        "      f'Esparsidade da base é de: {(esparsidade*100)}%'\\\n",
        "      f'\\n')\n",
        "\n",
        "print(f'{db_rating.info()}')"
      ],
      "metadata": {
        "colab": {
          "base_uri": "https://localhost:8080/"
        },
        "id": "HCM_Xyy4P6cc",
        "outputId": "bda85e5b-44c0-47ed-ad7e-2eb4a4ddbdf0"
      },
      "execution_count": null,
      "outputs": [
        {
          "output_type": "stream",
          "name": "stdout",
          "text": [
            "Total de ratings: 807160\n",
            "Total de usuários únicos: 4832\n",
            "Total de filmes: 3691\n",
            "Média de ratings/user: 167.04\n",
            "Esparsidade da base é de: 95.5%\n",
            "\n",
            "<class 'pandas.core.frame.DataFrame'>\n",
            "RangeIndex: 1000208 entries, 0 to 1000207\n",
            "Data columns (total 3 columns):\n",
            " #   Column   Non-Null Count    Dtype\n",
            "---  ------   --------------    -----\n",
            " 0   userid   1000208 non-null  int64\n",
            " 1   movieid  1000208 non-null  int64\n",
            " 2   rating   1000208 non-null  int64\n",
            "dtypes: int64(3)\n",
            "memory usage: 22.9 MB\n",
            "None\n"
          ]
        }
      ]
    },
    {
      "cell_type": "markdown",
      "source": [
        "### X_test - Exploratória"
      ],
      "metadata": {
        "id": "qY2KQ96fRUi7"
      }
    },
    {
      "cell_type": "code",
      "source": [
        "X_test.head()"
      ],
      "metadata": {
        "colab": {
          "base_uri": "https://localhost:8080/"
        },
        "id": "baENqqC9hHRR",
        "outputId": "42e94646-57e7-41b5-b6c6-11dcc460122c"
      },
      "execution_count": null,
      "outputs": [
        {
          "output_type": "execute_result",
          "data": {
            "text/plain": [
              "   userid  movieid  rating\n",
              "0       1      661       3\n",
              "1       1      914       3\n",
              "2       1     3408       4\n",
              "3       1     2355       5\n",
              "4       1     1197       3"
            ],
            "text/html": [
              "\n",
              "  <div id=\"df-cce0f5e2-ccb7-4d13-91fa-4c670e62d444\">\n",
              "    <div class=\"colab-df-container\">\n",
              "      <div>\n",
              "<style scoped>\n",
              "    .dataframe tbody tr th:only-of-type {\n",
              "        vertical-align: middle;\n",
              "    }\n",
              "\n",
              "    .dataframe tbody tr th {\n",
              "        vertical-align: top;\n",
              "    }\n",
              "\n",
              "    .dataframe thead th {\n",
              "        text-align: right;\n",
              "    }\n",
              "</style>\n",
              "<table border=\"1\" class=\"dataframe\">\n",
              "  <thead>\n",
              "    <tr style=\"text-align: right;\">\n",
              "      <th></th>\n",
              "      <th>userid</th>\n",
              "      <th>movieid</th>\n",
              "      <th>rating</th>\n",
              "    </tr>\n",
              "  </thead>\n",
              "  <tbody>\n",
              "    <tr>\n",
              "      <th>0</th>\n",
              "      <td>1</td>\n",
              "      <td>661</td>\n",
              "      <td>3</td>\n",
              "    </tr>\n",
              "    <tr>\n",
              "      <th>1</th>\n",
              "      <td>1</td>\n",
              "      <td>914</td>\n",
              "      <td>3</td>\n",
              "    </tr>\n",
              "    <tr>\n",
              "      <th>2</th>\n",
              "      <td>1</td>\n",
              "      <td>3408</td>\n",
              "      <td>4</td>\n",
              "    </tr>\n",
              "    <tr>\n",
              "      <th>3</th>\n",
              "      <td>1</td>\n",
              "      <td>2355</td>\n",
              "      <td>5</td>\n",
              "    </tr>\n",
              "    <tr>\n",
              "      <th>4</th>\n",
              "      <td>1</td>\n",
              "      <td>1197</td>\n",
              "      <td>3</td>\n",
              "    </tr>\n",
              "  </tbody>\n",
              "</table>\n",
              "</div>\n",
              "      <button class=\"colab-df-convert\" onclick=\"convertToInteractive('df-cce0f5e2-ccb7-4d13-91fa-4c670e62d444')\"\n",
              "              title=\"Convert this dataframe to an interactive table.\"\n",
              "              style=\"display:none;\">\n",
              "        \n",
              "  <svg xmlns=\"http://www.w3.org/2000/svg\" height=\"24px\"viewBox=\"0 0 24 24\"\n",
              "       width=\"24px\">\n",
              "    <path d=\"M0 0h24v24H0V0z\" fill=\"none\"/>\n",
              "    <path d=\"M18.56 5.44l.94 2.06.94-2.06 2.06-.94-2.06-.94-.94-2.06-.94 2.06-2.06.94zm-11 1L8.5 8.5l.94-2.06 2.06-.94-2.06-.94L8.5 2.5l-.94 2.06-2.06.94zm10 10l.94 2.06.94-2.06 2.06-.94-2.06-.94-.94-2.06-.94 2.06-2.06.94z\"/><path d=\"M17.41 7.96l-1.37-1.37c-.4-.4-.92-.59-1.43-.59-.52 0-1.04.2-1.43.59L10.3 9.45l-7.72 7.72c-.78.78-.78 2.05 0 2.83L4 21.41c.39.39.9.59 1.41.59.51 0 1.02-.2 1.41-.59l7.78-7.78 2.81-2.81c.8-.78.8-2.07 0-2.86zM5.41 20L4 18.59l7.72-7.72 1.47 1.35L5.41 20z\"/>\n",
              "  </svg>\n",
              "      </button>\n",
              "      \n",
              "  <style>\n",
              "    .colab-df-container {\n",
              "      display:flex;\n",
              "      flex-wrap:wrap;\n",
              "      gap: 12px;\n",
              "    }\n",
              "\n",
              "    .colab-df-convert {\n",
              "      background-color: #E8F0FE;\n",
              "      border: none;\n",
              "      border-radius: 50%;\n",
              "      cursor: pointer;\n",
              "      display: none;\n",
              "      fill: #1967D2;\n",
              "      height: 32px;\n",
              "      padding: 0 0 0 0;\n",
              "      width: 32px;\n",
              "    }\n",
              "\n",
              "    .colab-df-convert:hover {\n",
              "      background-color: #E2EBFA;\n",
              "      box-shadow: 0px 1px 2px rgba(60, 64, 67, 0.3), 0px 1px 3px 1px rgba(60, 64, 67, 0.15);\n",
              "      fill: #174EA6;\n",
              "    }\n",
              "\n",
              "    [theme=dark] .colab-df-convert {\n",
              "      background-color: #3B4455;\n",
              "      fill: #D2E3FC;\n",
              "    }\n",
              "\n",
              "    [theme=dark] .colab-df-convert:hover {\n",
              "      background-color: #434B5C;\n",
              "      box-shadow: 0px 1px 3px 1px rgba(0, 0, 0, 0.15);\n",
              "      filter: drop-shadow(0px 1px 2px rgba(0, 0, 0, 0.3));\n",
              "      fill: #FFFFFF;\n",
              "    }\n",
              "  </style>\n",
              "\n",
              "      <script>\n",
              "        const buttonEl =\n",
              "          document.querySelector('#df-cce0f5e2-ccb7-4d13-91fa-4c670e62d444 button.colab-df-convert');\n",
              "        buttonEl.style.display =\n",
              "          google.colab.kernel.accessAllowed ? 'block' : 'none';\n",
              "\n",
              "        async function convertToInteractive(key) {\n",
              "          const element = document.querySelector('#df-cce0f5e2-ccb7-4d13-91fa-4c670e62d444');\n",
              "          const dataTable =\n",
              "            await google.colab.kernel.invokeFunction('convertToInteractive',\n",
              "                                                     [key], {});\n",
              "          if (!dataTable) return;\n",
              "\n",
              "          const docLinkHtml = 'Like what you see? Visit the ' +\n",
              "            '<a target=\"_blank\" href=https://colab.research.google.com/notebooks/data_table.ipynb>data table notebook</a>'\n",
              "            + ' to learn more about interactive tables.';\n",
              "          element.innerHTML = '';\n",
              "          dataTable['output_type'] = 'display_data';\n",
              "          await google.colab.output.renderOutput(dataTable, element);\n",
              "          const docLink = document.createElement('div');\n",
              "          docLink.innerHTML = docLinkHtml;\n",
              "          element.appendChild(docLink);\n",
              "        }\n",
              "      </script>\n",
              "    </div>\n",
              "  </div>\n",
              "  "
            ]
          },
          "metadata": {},
          "execution_count": 15
        }
      ]
    },
    {
      "cell_type": "code",
      "source": [
        "X_test.count()"
      ],
      "metadata": {
        "colab": {
          "base_uri": "https://localhost:8080/"
        },
        "id": "dveNz3NoRKDL",
        "outputId": "579c952d-27f3-4539-f070-c400ae1a10d5"
      },
      "execution_count": null,
      "outputs": [
        {
          "output_type": "execute_result",
          "data": {
            "text/plain": [
              "userid     193048\n",
              "movieid    193048\n",
              "rating     193048\n",
              "dtype: int64"
            ]
          },
          "metadata": {},
          "execution_count": 16
        }
      ]
    },
    {
      "cell_type": "code",
      "source": [
        "X_test.head()"
      ],
      "metadata": {
        "colab": {
          "base_uri": "https://localhost:8080/"
        },
        "id": "pxA39siSROrj",
        "outputId": "0d5a6e69-fff1-4951-aa4b-950f9f0b42fa"
      },
      "execution_count": null,
      "outputs": [
        {
          "output_type": "execute_result",
          "data": {
            "text/plain": [
              "   userid  movieid  rating\n",
              "0       1      661       3\n",
              "1       1      914       3\n",
              "2       1     3408       4\n",
              "3       1     2355       5\n",
              "4       1     1197       3"
            ],
            "text/html": [
              "\n",
              "  <div id=\"df-92edf04f-d939-4478-81b5-b96d4200806d\">\n",
              "    <div class=\"colab-df-container\">\n",
              "      <div>\n",
              "<style scoped>\n",
              "    .dataframe tbody tr th:only-of-type {\n",
              "        vertical-align: middle;\n",
              "    }\n",
              "\n",
              "    .dataframe tbody tr th {\n",
              "        vertical-align: top;\n",
              "    }\n",
              "\n",
              "    .dataframe thead th {\n",
              "        text-align: right;\n",
              "    }\n",
              "</style>\n",
              "<table border=\"1\" class=\"dataframe\">\n",
              "  <thead>\n",
              "    <tr style=\"text-align: right;\">\n",
              "      <th></th>\n",
              "      <th>userid</th>\n",
              "      <th>movieid</th>\n",
              "      <th>rating</th>\n",
              "    </tr>\n",
              "  </thead>\n",
              "  <tbody>\n",
              "    <tr>\n",
              "      <th>0</th>\n",
              "      <td>1</td>\n",
              "      <td>661</td>\n",
              "      <td>3</td>\n",
              "    </tr>\n",
              "    <tr>\n",
              "      <th>1</th>\n",
              "      <td>1</td>\n",
              "      <td>914</td>\n",
              "      <td>3</td>\n",
              "    </tr>\n",
              "    <tr>\n",
              "      <th>2</th>\n",
              "      <td>1</td>\n",
              "      <td>3408</td>\n",
              "      <td>4</td>\n",
              "    </tr>\n",
              "    <tr>\n",
              "      <th>3</th>\n",
              "      <td>1</td>\n",
              "      <td>2355</td>\n",
              "      <td>5</td>\n",
              "    </tr>\n",
              "    <tr>\n",
              "      <th>4</th>\n",
              "      <td>1</td>\n",
              "      <td>1197</td>\n",
              "      <td>3</td>\n",
              "    </tr>\n",
              "  </tbody>\n",
              "</table>\n",
              "</div>\n",
              "      <button class=\"colab-df-convert\" onclick=\"convertToInteractive('df-92edf04f-d939-4478-81b5-b96d4200806d')\"\n",
              "              title=\"Convert this dataframe to an interactive table.\"\n",
              "              style=\"display:none;\">\n",
              "        \n",
              "  <svg xmlns=\"http://www.w3.org/2000/svg\" height=\"24px\"viewBox=\"0 0 24 24\"\n",
              "       width=\"24px\">\n",
              "    <path d=\"M0 0h24v24H0V0z\" fill=\"none\"/>\n",
              "    <path d=\"M18.56 5.44l.94 2.06.94-2.06 2.06-.94-2.06-.94-.94-2.06-.94 2.06-2.06.94zm-11 1L8.5 8.5l.94-2.06 2.06-.94-2.06-.94L8.5 2.5l-.94 2.06-2.06.94zm10 10l.94 2.06.94-2.06 2.06-.94-2.06-.94-.94-2.06-.94 2.06-2.06.94z\"/><path d=\"M17.41 7.96l-1.37-1.37c-.4-.4-.92-.59-1.43-.59-.52 0-1.04.2-1.43.59L10.3 9.45l-7.72 7.72c-.78.78-.78 2.05 0 2.83L4 21.41c.39.39.9.59 1.41.59.51 0 1.02-.2 1.41-.59l7.78-7.78 2.81-2.81c.8-.78.8-2.07 0-2.86zM5.41 20L4 18.59l7.72-7.72 1.47 1.35L5.41 20z\"/>\n",
              "  </svg>\n",
              "      </button>\n",
              "      \n",
              "  <style>\n",
              "    .colab-df-container {\n",
              "      display:flex;\n",
              "      flex-wrap:wrap;\n",
              "      gap: 12px;\n",
              "    }\n",
              "\n",
              "    .colab-df-convert {\n",
              "      background-color: #E8F0FE;\n",
              "      border: none;\n",
              "      border-radius: 50%;\n",
              "      cursor: pointer;\n",
              "      display: none;\n",
              "      fill: #1967D2;\n",
              "      height: 32px;\n",
              "      padding: 0 0 0 0;\n",
              "      width: 32px;\n",
              "    }\n",
              "\n",
              "    .colab-df-convert:hover {\n",
              "      background-color: #E2EBFA;\n",
              "      box-shadow: 0px 1px 2px rgba(60, 64, 67, 0.3), 0px 1px 3px 1px rgba(60, 64, 67, 0.15);\n",
              "      fill: #174EA6;\n",
              "    }\n",
              "\n",
              "    [theme=dark] .colab-df-convert {\n",
              "      background-color: #3B4455;\n",
              "      fill: #D2E3FC;\n",
              "    }\n",
              "\n",
              "    [theme=dark] .colab-df-convert:hover {\n",
              "      background-color: #434B5C;\n",
              "      box-shadow: 0px 1px 3px 1px rgba(0, 0, 0, 0.15);\n",
              "      filter: drop-shadow(0px 1px 2px rgba(0, 0, 0, 0.3));\n",
              "      fill: #FFFFFF;\n",
              "    }\n",
              "  </style>\n",
              "\n",
              "      <script>\n",
              "        const buttonEl =\n",
              "          document.querySelector('#df-92edf04f-d939-4478-81b5-b96d4200806d button.colab-df-convert');\n",
              "        buttonEl.style.display =\n",
              "          google.colab.kernel.accessAllowed ? 'block' : 'none';\n",
              "\n",
              "        async function convertToInteractive(key) {\n",
              "          const element = document.querySelector('#df-92edf04f-d939-4478-81b5-b96d4200806d');\n",
              "          const dataTable =\n",
              "            await google.colab.kernel.invokeFunction('convertToInteractive',\n",
              "                                                     [key], {});\n",
              "          if (!dataTable) return;\n",
              "\n",
              "          const docLinkHtml = 'Like what you see? Visit the ' +\n",
              "            '<a target=\"_blank\" href=https://colab.research.google.com/notebooks/data_table.ipynb>data table notebook</a>'\n",
              "            + ' to learn more about interactive tables.';\n",
              "          element.innerHTML = '';\n",
              "          dataTable['output_type'] = 'display_data';\n",
              "          await google.colab.output.renderOutput(dataTable, element);\n",
              "          const docLink = document.createElement('div');\n",
              "          docLink.innerHTML = docLinkHtml;\n",
              "          element.appendChild(docLink);\n",
              "        }\n",
              "      </script>\n",
              "    </div>\n",
              "  </div>\n",
              "  "
            ]
          },
          "metadata": {},
          "execution_count": 17
        }
      ]
    },
    {
      "cell_type": "code",
      "source": [
        "n_ratings = len(X_test)\n",
        "n_users = len(X_test['userid'].unique())\n",
        "n_movies_avaliados = len(X_test['movieid'].unique())\n",
        "esparsidade = round(1.0 -n_ratings/float(n_users * n_movies_avaliados),3)\n",
        "\n",
        "print(f'Total de ratings: {n_ratings}\\n'\\\n",
        "      f'Total de usuários únicos: {n_users}\\n'\\\n",
        "      f'Total de filmes: {n_movies_avaliados}\\n'\\\n",
        "      f'Média de ratings/user: {round(n_ratings/n_users, 2)}\\n'\\\n",
        "      f'Esparsidade da base é de: {(esparsidade*100)}%'\\\n",
        "      f'\\n')\n",
        "\n",
        "print(f'{db_rating.info()}')"
      ],
      "metadata": {
        "colab": {
          "base_uri": "https://localhost:8080/"
        },
        "id": "u8Pt0es7RRxL",
        "outputId": "30548ba8-700d-459e-b062-9ff440eacb56"
      },
      "execution_count": null,
      "outputs": [
        {
          "output_type": "stream",
          "name": "stdout",
          "text": [
            "Total de ratings: 193048\n",
            "Total de usuários únicos: 1208\n",
            "Total de filmes: 3446\n",
            "Média de ratings/user: 159.81\n",
            "Esparsidade da base é de: 95.39999999999999%\n",
            "\n",
            "<class 'pandas.core.frame.DataFrame'>\n",
            "RangeIndex: 1000208 entries, 0 to 1000207\n",
            "Data columns (total 3 columns):\n",
            " #   Column   Non-Null Count    Dtype\n",
            "---  ------   --------------    -----\n",
            " 0   userid   1000208 non-null  int64\n",
            " 1   movieid  1000208 non-null  int64\n",
            " 2   rating   1000208 non-null  int64\n",
            "dtypes: int64(3)\n",
            "memory usage: 22.9 MB\n",
            "None\n"
          ]
        }
      ]
    },
    {
      "cell_type": "markdown",
      "source": [
        "# Recomendando filme para usuário único"
      ],
      "metadata": {
        "id": "Wcz_hJIxXkqy"
      }
    },
    {
      "cell_type": "markdown",
      "source": [
        "## Filtragem da base"
      ],
      "metadata": {
        "id": "b-_MfCALbIgk"
      }
    },
    {
      "cell_type": "markdown",
      "source": [
        "### Funções"
      ],
      "metadata": {
        "id": "uZvMtJjsTIIA"
      }
    },
    {
      "cell_type": "code",
      "source": [
        "def instanciando_usuario_unico(id_userunico):\n",
        "    \"\"\"O \"uservip\" é instanciado a partir de um um usuário real do conjunto X_test visando a otimização de tempo para a criação de um novo usuário.\"\"\"\n",
        "\n",
        "    # Uma amostra do X_test para otimização de tempo, utilizando o id informado na variável id_arbitrario\n",
        "    userunico = X_test.loc[X_test['userid'] == id_userunico]\n",
        "    userunico = userunico.loc[userunico['rating'] == 5]\n",
        "\n",
        "    userunico = userunico.iloc[:2]\n",
        "\n",
        "    return userunico"
      ],
      "metadata": {
        "id": "2B8vpfI3gTHK"
      },
      "execution_count": null,
      "outputs": []
    },
    {
      "cell_type": "code",
      "source": [
        "def criar_base_para_correlacao(X_treino, usuario):\n",
        "    \"\"\"Seleciona todos os usuários da base de treino que tenham assistido pelo menos um filme em comum com o \"usuario\" e o próprio usuario, pivotados\"\"\"\n",
        "\n",
        "    base = X_treino.loc[X_treino['movieid'].isin(usuario['movieid']), 'userid']\n",
        "    base = X_treino.loc[X_treino['userid'].isin(base)]\n",
        "    # Adiciona o usuario à tabela para que o número de colunas seja igual ao da base e para, futuramente, fazer a correlação\n",
        "    base = pd.concat([base, usuario], ignore_index=True, axis='index')\n",
        "    base_pivotada = base.pivot_table(index='userid', columns='movieid', values='rating')\n",
        "\n",
        "    return base_pivotada"
      ],
      "metadata": {
        "id": "LpvBq_8zeLHo"
      },
      "execution_count": null,
      "outputs": []
    },
    {
      "cell_type": "code",
      "source": [
        "def calculando_correlacao(base, id_filme, metodo='pearson'):\n",
        "    \"\"\"Calculando pearson por default\"\"\"\n",
        "\n",
        "    uservip_corr = base.corrwith(base[id_filme])\n",
        "    uservip_corr.drop(index=id_filme, inplace=True)\n",
        "    uservip_corr = uservip_corr[uservip_corr>0]\n",
        "    similaridades = uservip_corr.to_list()\n",
        "    indexes = uservip_corr.index.to_list()    \n",
        "    dicionario = dict(zip(indexes, similaridades))\n",
        "   \n",
        "    return dicionario"
      ],
      "metadata": {
        "id": "tAcWUX3PZDCg"
      },
      "execution_count": null,
      "outputs": []
    },
    {
      "cell_type": "code",
      "source": [
        "def recomendacoes(base_treino, userid=1, metodo_de_calculo='pearson', rmse=False, rec_por_filmes=3):\n",
        "\n",
        "    filmes_recomendados = []\n",
        "    user = instanciando_usuario_unico(userid)\n",
        "\n",
        "    db_corr = criar_base_para_correlacao(base_treino, user)\n",
        "\n",
        "    for filme in user.movieid:\n",
        "        # Calcula a correlação existente entre o filme escolhido e os filmes filtrados pelo usuário\n",
        "        correlacao = calculando_correlacao(db_corr, filme, metodo_de_calculo)\n",
        "        \n",
        "        rec = [[i, correlacao[i]] for i in correlacao if i not in user.movieid]\n",
        "        rec.sort(key = lambda x: x[1])\n",
        "        rec = rec[:rec_por_filmes]\n",
        "    \n",
        "        if rmse == False:\n",
        "            rec = [linha[0] for linha in rec]\n",
        "     \n",
        "        filmes_recomendados.append([filme, rec])\n",
        "\n",
        "    return filmes_recomendados"
      ],
      "metadata": {
        "id": "Pwck18971kxc"
      },
      "execution_count": null,
      "outputs": []
    },
    {
      "cell_type": "markdown",
      "source": [
        "### Recomendando"
      ],
      "metadata": {
        "id": "cLjmDYxX74AK"
      }
    },
    {
      "cell_type": "code",
      "source": [
        "#ordena os filmes por ordem ascendente de notas e printa a nota na tela\n",
        "userid = np.random.choice(X_test.userid.unique(), 1)\n",
        "filmes_recomendados = recomendacoes(X_train, rec_por_filmes=10)"
      ],
      "metadata": {
        "id": "xSWXtM6xC_TF",
        "colab": {
          "base_uri": "https://localhost:8080/"
        },
        "outputId": "829bdeb8-3dcb-4ba2-d034-a60982964e33"
      },
      "execution_count": null,
      "outputs": [
        {
          "output_type": "stream",
          "name": "stderr",
          "text": [
            "/usr/local/lib/python3.7/dist-packages/numpy/lib/function_base.py:2683: RuntimeWarning: Degrees of freedom <= 0 for slice\n",
            "  c = cov(x, y, rowvar, dtype=dtype)\n",
            "/usr/local/lib/python3.7/dist-packages/numpy/lib/function_base.py:2542: RuntimeWarning: divide by zero encountered in true_divide\n",
            "  c *= np.true_divide(1, fact)\n"
          ]
        }
      ]
    },
    {
      "cell_type": "code",
      "source": [
        "filmes_recomendados"
      ],
      "metadata": {
        "id": "TRcbLfB8DVic",
        "colab": {
          "base_uri": "https://localhost:8080/"
        },
        "outputId": "f9db951e-bee0-454e-e469-75a9f078653f"
      },
      "execution_count": null,
      "outputs": [
        {
          "output_type": "execute_result",
          "data": {
            "text/plain": [
              "[[2355, [1194, 2912, 3617, 288, 1131, 1665, 3182, 3620, 3375, 605]],\n",
              " [1287, [246, 1367, 1033, 3152, 2136, 345, 216, 2091, 1320, 3416]]]"
            ]
          },
          "metadata": {},
          "execution_count": 24
        }
      ]
    },
    {
      "cell_type": "code",
      "source": [
        "for i in range(len(filmes_recomendados)):\n",
        "    print(f\"Já que você assistiu o filme {db_movie.loc[db_movie['movieid'] == filmes_recomendados[i][0], 'movietitle'].iloc[0]}, te recomendamos os filmes:\")\n",
        "    print(\"\")\n",
        "\n",
        "    for j in range(len(filmes_recomendados[i][1])):\n",
        "        print(f\"\\t{j+1} ─ {db_movie.loc[db_movie['movieid'] == filmes_recomendados[i][1][j], 'movietitle'].iloc[0]}\")\n",
        "    \n",
        "    print(\"\")\n",
        "    print(\"\")"
      ],
      "metadata": {
        "id": "WG38PWYY6rC7",
        "colab": {
          "base_uri": "https://localhost:8080/"
        },
        "outputId": "a4c2c82a-dd22-495a-bffc-12d76976ccc6"
      },
      "execution_count": null,
      "outputs": [
        {
          "output_type": "stream",
          "name": "stdout",
          "text": [
            "Já que você assistiu o filme Bug's Life, A (1998), te recomendamos os filmes:\n",
            "\n",
            "\t1 ─ Up in Smoke (1978)\n",
            "\t2 ─ Limey, The (1999)\n",
            "\t3 ─ Road Trip (2000)\n",
            "\t4 ─ Natural Born Killers (1994)\n",
            "\t5 ─ Jean de Florette (1986)\n",
            "\t6 ─ Bean (1997)\n",
            "\t7 ─ Mr. Death: The Rise and Fall of Fred A. Leuchter Jr. (1999)\n",
            "\t8 ─ Myth of Fingerprints, The (1997)\n",
            "\t9 ─ Destination Moon (1950)\n",
            "\t10 ─ One Fine Day (1996)\n",
            "\n",
            "\n",
            "Já que você assistiu o filme Ben-Hur (1959), te recomendamos os filmes:\n",
            "\n",
            "\t1 ─ Hoop Dreams (1994)\n",
            "\t2 ─ 101 Dalmatians (1996)\n",
            "\t3 ─ Fox and the Hound, The (1981)\n",
            "\t4 ─ Last Picture Show, The (1971)\n",
            "\t5 ─ Nutty Professor, The (1963)\n",
            "\t6 ─ Adventures of Priscilla, Queen of the Desert, The (1994)\n",
            "\t7 ─ Billy Madison (1995)\n",
            "\t8 ─ Return from Witch Mountain (1978)\n",
            "\t9 ─ Alien³ (1992)\n",
            "\t10 ─ Trial, The (Le Procès) (1963)\n",
            "\n",
            "\n"
          ]
        }
      ]
    },
    {
      "cell_type": "markdown",
      "source": [
        "# Medidas de avaliação"
      ],
      "metadata": {
        "id": "JTxa4crf0tLC"
      }
    },
    {
      "cell_type": "code",
      "source": [
        "users = np.random.choice(X_test.userid.unique(), 3, replace=False)"
      ],
      "metadata": {
        "id": "yMR95AwmNry9"
      },
      "execution_count": null,
      "outputs": []
    },
    {
      "cell_type": "code",
      "source": [
        "for user_temp in users:\n",
        "    similaridades_original = recomendacoes(X_test, userid=user_temp, rmse=True)\n",
        "\n",
        "    quantidade = math.floor(len(X_test.index.unique()) * 0.2)\n",
        "\n",
        "    X_test_temp = X_test.drop(np.random.choice(X_test.index.unique(), quantidade, replace=False))\n",
        "\n",
        "    similaridades_predito = recomendacoes(X_test_temp, userid=user_temp, rmse=True)\n",
        "\n",
        "    #plt.plot(similaridades_original.movieid, similaridades_original.rating)\n",
        "    #plt.plot(similaridades_predito.movieid, similaridades_predito.rating)     \n",
        "    \n",
        "    #title(f\"Notas para o usuário {user_temp}\")\n",
        "    #xlabel(\"Filme\")\n",
        "    #ylabel(\"Notas\")\n",
        "    #plt.legend(['original', 'predito'])\n",
        "\n",
        "    print(similaridades_original)\n",
        "    print(similaridades_predito)\n",
        "    print(similaridades_original[0][1])\n",
        "    print(similaridades_predito[0][1])\n",
        "\n",
        "    rms = mean_squared_error(similaridades_original[0][1], similaridades_predito[0][1], squared=False)\n",
        "\n",
        "    print('RMSE:')\n",
        "    print(rms)\n",
        "    #plt.show()"
      ],
      "metadata": {
        "id": "mE4zndom5UBS",
        "colab": {
          "base_uri": "https://localhost:8080/"
        },
        "outputId": "97c367a4-cbf7-4ce9-f2bb-92e63aadf633"
      },
      "execution_count": null,
      "outputs": [
        {
          "output_type": "stream",
          "name": "stderr",
          "text": [
            "/usr/local/lib/python3.7/dist-packages/numpy/lib/function_base.py:2683: RuntimeWarning: Degrees of freedom <= 0 for slice\n",
            "  c = cov(x, y, rowvar, dtype=dtype)\n",
            "/usr/local/lib/python3.7/dist-packages/numpy/lib/function_base.py:2542: RuntimeWarning: divide by zero encountered in true_divide\n",
            "  c *= np.true_divide(1, fact)\n"
          ]
        },
        {
          "output_type": "stream",
          "name": "stdout",
          "text": [
            "[[905, [[2176, 2.2314916399799298e-18], [593, 1.6745571938738507e-17], [3108, 1.9723718003700894e-17]]], [908, [[1353, 3.319153180653706e-18], [3701, 1.785608697938793e-17], [1203, 0.0004715808201764653]]]]\n",
            "[[905, [[2973, 0.011608304300919987], [2723, 0.01328617727638744], [1663, 0.013613319252933253]]], [908, [[2374, 1.1764210557397122e-17], [1162, 1.853581374835009e-17], [3546, 6.460547363336637e-17]]]]\n",
            "[[2176, 2.2314916399799298e-18], [593, 1.6745571938738507e-17], [3108, 1.9723718003700894e-17]]\n",
            "[[2973, 0.011608304300919987], [2723, 0.01328617727638744], [1663, 0.013613319252933253]]\n",
            "RMSE:\n",
            "777.8310704502637\n"
          ]
        },
        {
          "output_type": "stream",
          "name": "stderr",
          "text": [
            "/usr/local/lib/python3.7/dist-packages/numpy/lib/function_base.py:2683: RuntimeWarning: Degrees of freedom <= 0 for slice\n",
            "  c = cov(x, y, rowvar, dtype=dtype)\n",
            "/usr/local/lib/python3.7/dist-packages/numpy/lib/function_base.py:2542: RuntimeWarning: divide by zero encountered in true_divide\n",
            "  c *= np.true_divide(1, fact)\n"
          ]
        },
        {
          "output_type": "stream",
          "name": "stdout",
          "text": [
            "[[593, [[3506, 1.450435700562951e-17], [905, 1.674557193873851e-17], [1804, 4.370244334823979e-17]]], [2406, [[2178, 1.7445471763153067e-17], [110, 0.0015955950745143717], [3098, 0.003380868178450704]]]]\n",
            "[[593, [[3676, 7.572391977907814e-18], [542, 5.259198353897635e-17], [538, 0.0019891450168858225]]], [2406, [[3070, 0.000456650331064474], [2301, 0.0008126762301711559], [852, 0.002616465578300653]]]]\n",
            "[[3506, 1.450435700562951e-17], [905, 1.674557193873851e-17], [1804, 4.370244334823979e-17]]\n",
            "[[3676, 7.572391977907814e-18], [542, 5.259198353897635e-17], [538, 0.0019891450168858225]]\n",
            "RMSE:\n",
            "383.34387118866687\n"
          ]
        },
        {
          "output_type": "stream",
          "name": "stderr",
          "text": [
            "/usr/local/lib/python3.7/dist-packages/numpy/lib/function_base.py:2683: RuntimeWarning: Degrees of freedom <= 0 for slice\n",
            "  c = cov(x, y, rowvar, dtype=dtype)\n",
            "/usr/local/lib/python3.7/dist-packages/numpy/lib/function_base.py:2542: RuntimeWarning: divide by zero encountered in true_divide\n",
            "  c *= np.true_divide(1, fact)\n"
          ]
        },
        {
          "output_type": "stream",
          "name": "stdout",
          "text": [
            "[[3037, [[2140, 0.0025948916385497662], [1449, 0.0038124642583151486], [2529, 0.0038367437959678044]]], [905, [[2176, 2.2314916399799298e-18], [593, 1.6745571938738507e-17], [3108, 1.9723718003700894e-17]]]]\n",
            "[[3037, [[1219, 0.0023329933891192037], [2064, 0.003213590604556638], [1285, 0.0032991264409885524]]], [905, [[912, 0.0060716554883038145], [1214, 0.0075761440841416], [1391, 0.008983888367615394]]]]\n",
            "[[2140, 0.0025948916385497662], [1449, 0.0038124642583151486], [2529, 0.0038367437959678044]]\n",
            "[[1219, 0.0023329933891192037], [2064, 0.003213590604556638], [1285, 0.0032991264409885524]]\n",
            "RMSE:\n",
            "480.79836549737615\n"
          ]
        }
      ]
    },
    {
      "cell_type": "markdown",
      "source": [],
      "metadata": {
        "id": "-yLGPPQAggxE"
      }
    }
  ]
}